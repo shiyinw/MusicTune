{
 "cells": [
  {
   "cell_type": "markdown",
   "metadata": {},
   "source": [
    "# 4 - Convolutional Sentiment Analysis\n",
    "\n",
    "In the previous notebooks, we managed to achieve a test accuracy of ~85% using RNNs and an implementation of the [Bag of Tricks for Efficient Text Classification](https://arxiv.org/abs/1607.01759) model. In this final notebook, we will be using a *convolutional neural network* (CNN) to conduct sentiment analysis, implementing the model from [Convolutional Neural Networks for Sentence Classification](https://arxiv.org/abs/1408.5882).\n",
    "\n",
    "**Note**: I am not aiming to give a comprehensive introduction and explanation of CNNs. For a better and more in-depth explanation check out [here](https://ujjwalkarn.me/2016/08/11/intuitive-explanation-convnets/) and [here](https://cs231n.github.io/convolutional-networks/).\n",
    "\n",
    "Traditionally, CNNs are used to analyse images and are made up of one or more *convolutional* layers, followed by one or more linear layers. The convolutional layers use filters (also called *kernels* or *receptive fields*) which scan across an image and produce a processed version of the image. This processed version of the image can be fed into another convolutional layer or a linear layer. Each filter has a shape, e.g. a 3x3 filter covers a 3 pixel wide and 3 pixel high area of the image, and each element of the filter has a weight associated with it, the 3x3 filter would have 9 weights. In traditional image processing these weights were specified by hand by engineers, however the main advantage of the convolutional layers in neural networks is that these weights are learned via backpropagation. \n",
    "\n",
    "The intuitive idea behind learning the weights is that your convolutional layers act like *feature extractors*, extracting parts of the image that are most important for your CNN's goal, e.g. if using a CNN to detect faces in an image, the CNN may be looking for features such as the existance of a nose, mouth or a pair of eyes in the image.\n",
    "\n",
    "So why use CNNs on text? In the same way that a 3x3 filter can look over a patch of an image, a 1x2 filter can look over a 2 sequential words in a piece of text, i.e. a bi-gram. In the previous tutorial we looked at the FastText model which used bi-grams by explicitly adding them to the end of a text, in this CNN model we will instead use multiple filters of different sizes which will look at the bi-grams (a 1x2 filter), tri-grams (a 1x3 filter) and n-grams (a 1x$n$ filter) within the text.\n",
    "\n",
    "The intuition here is that the appearance of certain bi-grams, tri-grams and n-grams within the review will be a good indication of the final sentiment."
   ]
  },
  {
   "cell_type": "markdown",
   "metadata": {},
   "source": [
    "## Preparing Data\n",
    "\n",
    "As in the previous notebooks, we'll prepare the data. \n",
    "\n",
    "Unlike the previous notebook with the FastText model, we no longer explicitly need to create the bi-grams and append them to the end of the sentence."
   ]
  },
  {
   "cell_type": "code",
   "execution_count": 1,
   "metadata": {},
   "outputs": [],
   "source": [
    "import pickle\n",
    "import csv\n",
    "import torch\n",
    "# from torchtext import data\n",
    "# from torchtext import datasets\n",
    "import random\n",
    "import numpy as np\n",
    "\n",
    "\n",
    "\n",
    "SEED = 1234\n",
    "\n",
    "torch.manual_seed(SEED)\n",
    "torch.cuda.manual_seed(SEED)\n",
    "torch.backends.cudnn.deterministic = True\n"
   ]
  },
  {
   "cell_type": "code",
   "execution_count": 2,
   "metadata": {},
   "outputs": [],
   "source": [
    "with open('/Users/lyra/Downloads/0.pickle', 'rb') as f:\n",
    "    train_data_pickle = pickle.load(f)\n",
    "\n",
    "train_data_path = '/Users/lyra/Downloads/0.csv'\n",
    "train_data_len = 0\n",
    "per_len = 100\n",
    "\n",
    "with open(train_data_path, 'w') as csvfile:\n",
    "    fieldnames = ['label', 'text']\n",
    "    writer = csv.DictWriter(csvfile, fieldnames=fieldnames, quoting=csv.QUOTE_MINIMAL)\n",
    "    \n",
    "    for row in train_data_pickle:\n",
    "        for i in range(0, len(row[0]), per_len):\n",
    "            flag = False\n",
    "            for j in range(i, min(i+per_len, len(row[0]))):\n",
    "                if row[0][j] != 0.0:\n",
    "                    flag = True\n",
    "                    break\n",
    "            if flag == False:\n",
    "                continue\n",
    "            train_data_len += 2\n",
    "            batch = row[0][i:i+per_len]\n",
    "            batch_fake = row[1][i:i+per_len]\n",
    "            writer.writerow({'label': 0.0, 'text': batch.tolist()})\n",
    "            writer.writerow({'label': 1.0, 'text': batch_fake.tolist()})"
   ]
  },
  {
   "cell_type": "code",
   "execution_count": 3,
   "metadata": {},
   "outputs": [],
   "source": [
    "train_data = np.zeros((train_data_len, per_len + 1), dtype = int)\n",
    "k = 0\n",
    "for row in train_data_pickle:\n",
    "    for i in range(0, len(row[0]), per_len):\n",
    "        flag = False\n",
    "        for j in range(i, min(i+per_len, len(row[0]))):\n",
    "            if row[0][j] != 0.0:\n",
    "                flag = True\n",
    "                break\n",
    "        if flag == False:\n",
    "            continue\n",
    "        for j in range(i, min(i+per_len, len(row[0]))):\n",
    "            train_data[k][j-i+1] = int(row[0][j] * 100)\n",
    "            train_data[k][0] = 0\n",
    "            train_data[k+1][j-i+1] = int(row[1][j] * 100)\n",
    "            train_data[k+1][0] = 1\n",
    "        k += 2\n",
    "\n",
    "np.random.shuffle(train_data)\n",
    "\n",
    "train_data_text = torch.from_numpy(train_data[:int(train_data_len*0.9), 1:])\n",
    "train_data_label = train_data[:int(train_data_len*0.9), 0].astype(np.float32)\n",
    "train_data_label = torch.from_numpy(train_data_label)\n",
    "\n",
    "valid_data_text = torch.from_numpy(train_data[int(train_data_len*0.9):, 1:])\n",
    "valid_data_label = train_data[int(train_data_len*0.9):, 0].astype(np.float32)\n",
    "valid_data_label = torch.from_numpy(valid_data_label)"
   ]
  },
  {
   "cell_type": "code",
   "execution_count": 4,
   "metadata": {},
   "outputs": [],
   "source": [
    "with open('/Users/lyra/Downloads/1.pickle', 'rb') as f:\n",
    "    test_data_pickle = pickle.load(f)\n",
    "\n",
    "test_data_len = 0\n",
    "\n",
    "for row in test_data_pickle:\n",
    "    for i in range(0, len(row[0]), per_len):\n",
    "        flag = False\n",
    "        for j in range(i, min(i+per_len, len(row[0]))):\n",
    "            if row[0][j] != 0.0:\n",
    "                flag = True\n",
    "                break\n",
    "        if flag == False:\n",
    "            continue\n",
    "        test_data_len += 2\n",
    "        \n",
    "test_data = np.zeros((test_data_len, per_len + 1), dtype = int)\n",
    "k = 0\n",
    "for row in test_data_pickle:\n",
    "    for i in range(0, len(row[0]), per_len):\n",
    "        flag = False\n",
    "        for j in range(i, min(i+per_len, len(row[0]))):\n",
    "            if row[0][j] != 0.0:\n",
    "                flag = True\n",
    "                break\n",
    "        if flag == False:\n",
    "            continue\n",
    "        for j in range(i, min(i+per_len, len(row[0]))):\n",
    "            test_data[k][j-i+1] = int(row[0][j] * 100)\n",
    "            test_data[k][0] = 0\n",
    "            test_data[k+1][j-i+1] = int(row[1][j] * 100)\n",
    "            test_data[k+1][0] = 1\n",
    "        k += 2\n",
    "\n",
    "np.random.shuffle(test_data)\n",
    "\n",
    "test_data_text = torch.from_numpy(test_data[:, 1:])\n",
    "test_data_label = test_data[:, 0].astype(np.float32)\n",
    "test_data_label = torch.from_numpy(test_data_label)"
   ]
  },
  {
   "cell_type": "markdown",
   "metadata": {},
   "source": [
    "As before, we create the iterators."
   ]
  },
  {
   "cell_type": "code",
   "execution_count": 5,
   "metadata": {},
   "outputs": [],
   "source": [
    "BATCH_SIZE = 64\n",
    "\n",
    "device = torch.device('cuda' if torch.cuda.is_available() else 'cpu')\n",
    "\n",
    "#train_iterator, valid_iterator, test_iterator = data.BucketIterator.splits(\n",
    "#     (train_data, valid_data, test_data), \n",
    "#     batch_size=BATCH_SIZE, \n",
    "#     device=device)"
   ]
  },
  {
   "cell_type": "code",
   "execution_count": 11,
   "metadata": {},
   "outputs": [
    {
     "name": "stdout",
     "output_type": "stream",
     "text": [
      "(20326, 101)\n",
      "18293\n",
      "tensor(1.)\n",
      "tensor([    0,     0,     0,     1,     5,    16,    42,    99,   213,   419,\n",
      "          766,  1303,  2071,  3086,  4324,  5718, 15863, 25903, 35714, 35816,\n",
      "        35772, 27276, 19151, 19551, 27807, 34692, 24584, 14422,  5480,  4574,\n",
      "         3979,  3783,  4018,  4652, 11175, 18735, 26561, 28331, 29082, 28910,\n",
      "        29209, 29676, 22854, 15500,  7681,  7527,  7667, 16903, 24615, 31439,\n",
      "        29019, 27790, 27864, 27946, 29607, 31184, 32308, 31979, 29461, 26127,\n",
      "        22815, 21049, 20615, 20245, 20016, 20017, 16235, 12503, 13127, 17795,\n",
      "        22632, 23051, 23266, 23469, 23957, 24753, 25598, 26228, 26625, 26811,\n",
      "        26873, 26815, 26675, 26591, 26633, 26671, 26545, 27371, 28634, 28883,\n",
      "        27566, 25812, 25239, 25180, 25130, 24980, 24761, 24489, 24107, 24396])\n",
      "2033\n",
      "tensor(1.)\n",
      "tensor([35200, 36042, 36515, 36693, 36662, 36573, 36505, 36473, 37373, 38150,\n",
      "        38038, 37276, 36815, 37304, 37556, 37556, 37427, 37298, 37907, 38517,\n",
      "        38332, 37355, 36440, 36378, 36374, 36307, 36176, 36093, 36116, 36182,\n",
      "        36234, 36214, 36069, 35863, 35659, 35523, 35458, 35408, 35372, 35348,\n",
      "        35333, 35325, 35321, 35319, 35376, 35493, 35609, 35667, 35667, 35609,\n",
      "        35492, 35376, 35317, 35317, 35317, 35376, 35434, 35434, 35376, 35317,\n",
      "        35317, 35317, 35317, 35317, 35317, 35317, 35317, 35317, 35261, 35204,\n",
      "        35204, 35261, 35317, 35317, 35317, 35317, 35317, 35317, 35261, 35148,\n",
      "        35091, 35148, 35261, 35317, 35317, 35317, 35317, 35317, 35317, 35317,\n",
      "        35317, 35317, 35317, 35317, 35317, 35376, 35492, 35551, 35492, 35376])\n",
      "20712 (20712, 101)\n",
      "tensor(1.)\n",
      "tensor([32902, 33403, 35283, 29000, 29877, 28198, 35854, 35154, 34683, 33779,\n",
      "        32713, 33063, 32807, 31992, 30623, 30665, 31762, 33117, 32884, 31566,\n",
      "        31671, 31797, 30877, 28334, 26567, 26503, 26476, 26554, 26755, 27095,\n",
      "        27682, 28299, 28664, 28724, 28705, 28746, 28797, 28867, 29406, 29870,\n",
      "        29706, 29056, 28481, 28533, 28695, 28804, 28879, 28962, 29158, 29639,\n",
      "        30472, 32245, 33448, 33155, 32907, 34016, 36252, 37458, 37630, 37704,\n",
      "        37678, 37054, 36808, 37488, 37685, 37073, 37047, 38261, 38788, 29741,\n",
      "        20372, 20398, 27154, 32603, 29704, 28159, 28045, 28041, 29352, 31940,\n",
      "        33526, 32429, 30128, 29450, 30172, 31440, 31481, 30253, 28347, 26865,\n",
      "        26604, 26359, 26267, 26716, 27200, 27211, 26755, 26347, 26503, 26711])\n"
     ]
    }
   ],
   "source": [
    "print(train_data.shape)\n",
    "train_data_len = train_data_label.shape[0]\n",
    "print(train_data_len)\n",
    "print(train_data_label[0])\n",
    "print(train_data_text[0])\n",
    "valid_data_len = valid_data_label.shape[0]\n",
    "print(valid_data_len)\n",
    "print(valid_data_label[0])\n",
    "print(valid_data_text[0])\n",
    "print(test_data_len, test_data.shape)\n",
    "print(test_data_label[0])\n",
    "print(test_data_text[0])"
   ]
  },
  {
   "cell_type": "markdown",
   "metadata": {},
   "source": [
    "## Build the Model\n",
    "\n",
    "Now to build our model.\n",
    "\n",
    "The first major hurdle is visualizing how CNNs are used for text. Images are typically 2 dimensional (we'll ignore the fact that there is a third \"colour\" dimension for now) whereas text is 1 dimensional. However, we know that the first step in almost all of our previous tutorials (and pretty much all NLP pipelines) is converting the words into word embeddings. This is how we can visualize our words in 2 dimensions, each word along one axis and the elements of vectors aross the other dimension. Consider the 2 dimensional representation of the embedded sentence below:\n",
    "\n",
    "![](https://i.imgur.com/ci1h9hv.png)\n",
    "\n",
    "We can then use a filter that is **[n x emb_dim]**. This will cover $n$ sequential words entirely, as their width will be `emb_dim` dimensions. Consider the image below, with our word vectors are represented in green. Here we have 4 words with 5 dimensional embeddings, creating a [4x5] \"image\" tensor. A filter that covers two words at a time (i.e. bi-grams) will be **[2x5]** filter, shown in yellow, and each element of the filter with have a _weight_ associated with it. The output of this filter (shown in red) will be a single real number that is the weighted sum of all elements covered by the filter.\n",
    "\n",
    "![](https://i.imgur.com/QlXduXu.png)\n",
    "\n",
    "The filter then moves \"down\" the image (or across the sentence) to cover the next bi-gram and another output (weighted sum) is calculated. \n",
    "\n",
    "![](https://i.imgur.com/wuA330x.png)\n",
    "\n",
    "Finally, the filter moves down again and the final output for this filter is calculated.\n",
    "\n",
    "![](https://i.imgur.com/gi1GaEz.png)\n",
    "\n",
    "In our case (and in the general case where the width of the filter equals the width of the \"image\"), our output will be a vector with number of elements equal to the height of the image (or lenth of the word) minus the height of the filter plus one, $4-2+1=3$ in this case.\n",
    "\n",
    "This example showed how to calculate the output of one filter. Our model (and pretty much all CNNs) will have lots of these filters. The idea is that each filter will learn a different feature to extract. In the scenario of analysing text, we are hoping each of the **[2 x emb_dim]** filters will be looking for the occurence of different bi-grams. \n",
    "\n",
    "In our model, we will also have different sizes of filters, heights of 3, 4 and 5, with 100 of each of them. The intuition is that we will be looking for the occurence of different tri-grams, 4-grams and 5-grams that are relevant for analysing sentiment of movie reviews.\n",
    "\n",
    "The next step in our model is to use *pooling* (specifically *max pooling*) on the output of the convolutional layers. This is similar to the FastText model where we performed the average over each of the word vectors, implemented by the `F.avg_pool2d` function, however instead of taking the average over a dimension, we are taking the maximum value over a dimension. Below an example of taking the maximum value (0.9) from the output of the convolutional layer on the example sentence (not shown in the activation function applied to the output of the convolutions).\n",
    "\n",
    "![](https://i.imgur.com/gzkS3ze.png)\n",
    "\n",
    "The idea here is that the maximum value is the \"most important\" feature for determining the sentiment of the review, which corresponds to the \"most important\" n-gram within the review. How do we know what the \"most important\" n-gram is? Luckily, we don't have to! Through backpropagation, the weights of the filters are changed so that whenever certain n-grams that are highly indicative of the sentiment are seen, the output of the filter is a \"high\" value. This \"high\" value then passes through the max pooling layer if it is the maximum value in the output. \n",
    "\n",
    "As our model has 100 filters of 3 different sizes, that means we have 300 different n-grams the model thinks are important. We concatenate these together into a single vector and pass them through a linear layer to predict the sentiment. We can think of the weights of this linear layer as \"weighting up the evidence\" from each of the 300 n-grams and making a final decision. \n",
    "\n",
    "### Implementation Details\n",
    "\n",
    "We implement the convolutional layers with `nn.Conv2d`. The `in_channels` argument is the number of \"channels\" in your image going into the convolutional layer. In actual images this is usually 3 (one channel for each of the red, blue and green channels), however when using text we only have a single channel, the text itself. The `out_channels` is the number of filters and the `kernel_size` is the size of the filters. Each of our `kernel_size`s is going to be **[n x emb_dim]** where $n$ is the size of the n-grams.\n",
    "\n",
    "In PyTorch, RNNs want the input with the batch dimension second, whereas CNNs want the batch dimension first. Thus, the first thing we do to our input is `permute` it to make it the correct shape. We then pass the sentence through an embedding layer to get our embeddings. The second dimension of the input into a `nn.Conv2d` layer must be the channel dimension. As text technically does not have a channel dimension, we `unsqueeze` our tensor to create one. This matches with our `in_channels=1` in the initialization of our convolutional layers. \n",
    "\n",
    "We then pass the tensors through the convolutional and pooling layers, using the `ReLU` activation function after the convolutional layers. Another nice feature of the pooling layers is that they handle sentences of different lengths. The size of the output of the convolutional layer is dependent on the size of the input to it, and different batches contain sentences of different lengths. Without the max pooling layer the input to our linear layer would depend on the size of the input sentence (not what we want). One option to rectify this would be to trim/pad all sentences to the same length, however with the max pooling layer we always know the input to the linear layer will be the total number of filters. **Note**: there an exception to this if your sentence(s) are shorter than the largest filter used. You will then have to pad your sentences to the length of the largest filter. In the IMDb data there are no reviews only 5 words long so we don't have to worry about that, but you will if you are using your own data.\n",
    "\n",
    "Finally, we perform dropout on the concatenated filter outputs and then pass them through a linear layer to make our predictions."
   ]
  },
  {
   "cell_type": "code",
   "execution_count": 12,
   "metadata": {},
   "outputs": [],
   "source": [
    "import torch.nn as nn\n",
    "import torch.nn.functional as F\n",
    "\n",
    "class CNN(nn.Module):\n",
    "    def __init__(self, vocab_size, embedding_dim, n_filters, filter_sizes, output_dim, dropout):\n",
    "        super().__init__()\n",
    "        \n",
    "        self.embedding = nn.Embedding(vocab_size, embedding_dim)\n",
    "        self.conv_0 = nn.Conv2d(in_channels=1, out_channels=n_filters, kernel_size=(filter_sizes[0],embedding_dim))\n",
    "        self.conv_1 = nn.Conv2d(in_channels=1, out_channels=n_filters, kernel_size=(filter_sizes[1],embedding_dim))\n",
    "        self.conv_2 = nn.Conv2d(in_channels=1, out_channels=n_filters, kernel_size=(filter_sizes[2],embedding_dim))\n",
    "        self.fc = nn.Linear(len(filter_sizes)*n_filters, output_dim)\n",
    "        self.dropout = nn.Dropout(dropout)\n",
    "        \n",
    "    def forward(self, x):\n",
    "        \n",
    "        #x = [sent len, batch size]\n",
    "        \n",
    "        #x = x.permute(1, 0)\n",
    "                \n",
    "        #x = [batch size, sent len]\n",
    "        \n",
    "        embedded = self.embedding(x)\n",
    "                \n",
    "        #embedded = [batch size, sent len, emb dim]\n",
    "        \n",
    "        embedded = embedded.unsqueeze(1)\n",
    "        \n",
    "        \n",
    "        #embedded = [batch size, 1, sent len, emb dim]\n",
    "        \n",
    "        conved_0 = F.relu(self.conv_0(embedded).squeeze(3))\n",
    "        conved_1 = F.relu(self.conv_1(embedded).squeeze(3))\n",
    "        conved_2 = F.relu(self.conv_2(embedded).squeeze(3))\n",
    "            \n",
    "        #conv_n = [batch size, n_filters, sent len - filter_sizes[n]]\n",
    "        \n",
    "        pooled_0 = F.max_pool1d(conved_0, conved_0.shape[2]).squeeze(2)\n",
    "        pooled_1 = F.max_pool1d(conved_1, conved_1.shape[2]).squeeze(2)\n",
    "        pooled_2 = F.max_pool1d(conved_2, conved_2.shape[2]).squeeze(2)\n",
    "        \n",
    "        #pooled_n = [batch size, n_filters]\n",
    "        \n",
    "        cat = self.dropout(torch.cat((pooled_0, pooled_1, pooled_2), dim=1))\n",
    "\n",
    "        #cat = [batch size, n_filters * len(filter_sizes)]\n",
    "            \n",
    "        return self.fc(cat)"
   ]
  },
  {
   "cell_type": "markdown",
   "metadata": {},
   "source": [
    "Currently the `CNN` model can only use 3 different sized filters, but we can actually improve the code of our model to make it more generic and take any number of filters.\n",
    "\n",
    "We do this by placing all of our convolutional layers in a  `nn.ModuleList`, a function used to hold a list of PyTorch `nn.Module`s. If we simply used a standard Python list, the modules within the list cannot be \"seen\" by any modules outside the list which will cause us some errors.\n",
    "\n",
    "We can now pass an arbitrary sized list of filter sizes and the list comprehension will create a convolutional layer for each of them. Then, in the `forward` method we iterate through the list applying each convolutional layer to get a list of convolutional outputs, which we also feed through the max pooling in a list comprehension before concatenating together and passing through the dropout and linear layers."
   ]
  },
  {
   "cell_type": "code",
   "execution_count": 13,
   "metadata": {},
   "outputs": [],
   "source": [
    "class CNN(nn.Module):\n",
    "    def __init__(self, vocab_size, embedding_dim, n_filters, filter_sizes, output_dim, dropout):\n",
    "        super().__init__()\n",
    "        \n",
    "        self.embedding = nn.Embedding(vocab_size, embedding_dim)\n",
    "        self.convs = nn.ModuleList([nn.Conv2d(in_channels=1, out_channels=n_filters, kernel_size=(fs,embedding_dim)) for fs in filter_sizes])\n",
    "        self.fc = nn.Linear(len(filter_sizes)*n_filters, output_dim)\n",
    "        self.dropout = nn.Dropout(dropout)\n",
    "        \n",
    "    def forward(self, x):\n",
    "        \n",
    "        #x = [sent len, batch size]\n",
    "        \n",
    "        #x = x.permute(1, 0)\n",
    "                \n",
    "        #x = [batch size, sent len]\n",
    "        \n",
    "        #print(x.shape)\n",
    "        \n",
    "        embedded = self.embedding(x)\n",
    "                \n",
    "        #embedded = [batch size, sent len, emb dim]\n",
    "        \n",
    "        embedded = embedded.unsqueeze(1)\n",
    "        \n",
    "        #embedded = [batch size, 1, sent len, emb dim]\n",
    "        \n",
    "        conved = [F.relu(conv(embedded)).squeeze(3) for conv in self.convs]\n",
    "            \n",
    "        #conv_n = [batch size, n_filters, sent len - filter_sizes[n]]\n",
    "        \n",
    "        pooled = [F.max_pool1d(conv, conv.shape[2]).squeeze(2) for conv in conved]\n",
    "        \n",
    "        #pooled_n = [batch size, n_filters]\n",
    "        \n",
    "        cat = self.dropout(torch.cat(pooled, dim=1))\n",
    "\n",
    "        #cat = [batch size, n_filters * len(filter_sizes)]\n",
    "            \n",
    "        return self.fc(cat)"
   ]
  },
  {
   "cell_type": "markdown",
   "metadata": {},
   "source": [
    "We create an instance of our `CNN` class."
   ]
  },
  {
   "cell_type": "code",
   "execution_count": 14,
   "metadata": {},
   "outputs": [
    {
     "name": "stdout",
     "output_type": "stream",
     "text": [
      "100000 100\n"
     ]
    }
   ],
   "source": [
    "INPUT_DIM = 100000\n",
    "EMBEDDING_DIM = 100\n",
    "N_FILTERS = 100\n",
    "FILTER_SIZES = [3,4,5]\n",
    "OUTPUT_DIM = 1\n",
    "DROPOUT = 0.5\n",
    "\n",
    "print(INPUT_DIM, EMBEDDING_DIM)\n",
    "\n",
    "model = CNN(INPUT_DIM, EMBEDDING_DIM, N_FILTERS, FILTER_SIZES, OUTPUT_DIM, DROPOUT)"
   ]
  },
  {
   "cell_type": "markdown",
   "metadata": {},
   "source": [
    "And load the pre-trained embeddings"
   ]
  },
  {
   "cell_type": "markdown",
   "metadata": {},
   "source": [
    "## Train the Model"
   ]
  },
  {
   "cell_type": "markdown",
   "metadata": {},
   "source": [
    "Training is the same as before. We initialize the optimizer, loss function (criterion) and place the model and criterion on the GPU (if available)"
   ]
  },
  {
   "cell_type": "code",
   "execution_count": 15,
   "metadata": {},
   "outputs": [],
   "source": [
    "import torch.optim as optim\n",
    "\n",
    "optimizer = optim.Adam(model.parameters())\n",
    "\n",
    "criterion = nn.BCEWithLogitsLoss()\n",
    "\n",
    "model = model.to(device)\n",
    "criterion = criterion.to(device)"
   ]
  },
  {
   "cell_type": "markdown",
   "metadata": {},
   "source": [
    "We implement the function to calculate accuracy..."
   ]
  },
  {
   "cell_type": "code",
   "execution_count": 16,
   "metadata": {},
   "outputs": [],
   "source": [
    "def binary_accuracy(preds, y):\n",
    "    \"\"\"\n",
    "    Returns accuracy per batch, i.e. if you get 8/10 right, this returns 0.8, NOT 8\n",
    "    \"\"\"\n",
    "\n",
    "    #round predictions to the closest integer\n",
    "    rounded_preds = torch.round(torch.sigmoid(preds))\n",
    "    correct = (rounded_preds == y).float() #convert into float for division \n",
    "    acc = correct.sum()/len(correct)\n",
    "    return acc"
   ]
  },
  {
   "cell_type": "markdown",
   "metadata": {},
   "source": [
    "We define a function for training our model...\n",
    "\n",
    "**Note**: as we are using dropout again, we must remember to use `model.train()` to ensure the dropout is \"turned on\" while training."
   ]
  },
  {
   "cell_type": "code",
   "execution_count": 17,
   "metadata": {},
   "outputs": [],
   "source": [
    "def train(model, train_data_len, train_data_text, train_data_label, optimizer, criterion):\n",
    "    \n",
    "    epoch_loss = 0\n",
    "    epoch_acc = 0\n",
    "    \n",
    "    model.train()\n",
    "    \n",
    "    for batch_id in range(int(train_data_len / BATCH_SIZE)):\n",
    "        \n",
    "        batch_text = train_data_text[batch_id * BATCH_SIZE : min((batch_id+1)*BATCH_SIZE, train_data_len), :]\n",
    "        batch_label = train_data_label[batch_id * BATCH_SIZE : min((batch_id+1)*BATCH_SIZE, train_data_len)]\n",
    "        \n",
    "        #print(batch_text)\n",
    "        #print(batch_label)\n",
    "        \n",
    "        optimizer.zero_grad()\n",
    "        \n",
    "        predictions = model(batch_text).squeeze(1)\n",
    "        \n",
    "        loss = criterion(predictions, batch_label)\n",
    "        \n",
    "        acc = binary_accuracy(predictions, batch_label)\n",
    "        \n",
    "        loss.backward()\n",
    "        \n",
    "        optimizer.step()\n",
    "        \n",
    "        epoch_loss += loss.item()\n",
    "        epoch_acc += acc.item()\n",
    "        \n",
    "    return epoch_loss / int(train_data_len / BATCH_SIZE), epoch_acc / int(train_data_len / BATCH_SIZE)"
   ]
  },
  {
   "cell_type": "markdown",
   "metadata": {},
   "source": [
    "We define a function for testing our model...\n",
    "\n",
    "**Note**: again, as we are now using dropout, we must remember to use `model.eval()` to ensure the dropout is \"turned off\" while evaluating."
   ]
  },
  {
   "cell_type": "code",
   "execution_count": 18,
   "metadata": {},
   "outputs": [],
   "source": [
    "def evaluate(model, valid_data_len, valid_data_text, valid_data_label, criterion):\n",
    "    \n",
    "    epoch_loss = 0\n",
    "    epoch_acc = 0\n",
    "    \n",
    "    model.eval()\n",
    "    \n",
    "    with torch.no_grad():\n",
    "    \n",
    "        for batch_id in range(int(valid_data_len / BATCH_SIZE)):\n",
    "            batch_text = valid_data_text[batch_id * BATCH_SIZE : min((batch_id+1)*BATCH_SIZE, valid_data_len), :]\n",
    "            batch_label = valid_data_label[batch_id * BATCH_SIZE : min((batch_id+1)*BATCH_SIZE, valid_data_len)]\n",
    "\n",
    "            predictions = model(batch_text).squeeze(1)\n",
    "            \n",
    "            loss = criterion(predictions, batch_label)\n",
    "            \n",
    "            acc = binary_accuracy(predictions, batch_label)\n",
    "\n",
    "            epoch_loss += loss.item()\n",
    "            epoch_acc += acc.item()\n",
    "        \n",
    "    return epoch_loss / int(valid_data_len / BATCH_SIZE), epoch_acc / int(valid_data_len / BATCH_SIZE)"
   ]
  },
  {
   "cell_type": "markdown",
   "metadata": {},
   "source": [
    "Finally, we train our model..."
   ]
  },
  {
   "cell_type": "code",
   "execution_count": 20,
   "metadata": {
    "scrolled": true
   },
   "outputs": [
    {
     "name": "stdout",
     "output_type": "stream",
     "text": [
      "| Epoch: 01 | Train Loss: 0.135 | Train Acc: 95.94% | Val. Loss: 0.084 | Val. Acc: 97.53% |\n"
     ]
    }
   ],
   "source": [
    "N_EPOCHS = 1\n",
    "\n",
    "for epoch in range(N_EPOCHS):\n",
    "\n",
    "    train_loss, train_acc = train(model, train_data_len, train_data_text, train_data_label, optimizer, criterion)\n",
    "    valid_loss, valid_acc = evaluate(model, valid_data_len, valid_data_text, valid_data_label, criterion)\n",
    "    \n",
    "    print(f'| Epoch: {epoch+1:02} | Train Loss: {train_loss:.3f} | Train Acc: {train_acc*100:.2f}% | Val. Loss: {valid_loss:.3f} | Val. Acc: {valid_acc*100:.2f}% |')"
   ]
  },
  {
   "cell_type": "markdown",
   "metadata": {},
   "source": [
    "...and get our best test accuracy yet! "
   ]
  },
  {
   "cell_type": "code",
   "execution_count": 22,
   "metadata": {},
   "outputs": [
    {
     "name": "stdout",
     "output_type": "stream",
     "text": [
      "| Test Loss: 0.055 | Test Acc: 98.14% |\n"
     ]
    }
   ],
   "source": [
    "test_loss, test_acc = evaluate(model, test_data_len, test_data_text, test_data_label, criterion)\n",
    "\n",
    "print(f'| Test Loss: {test_loss:.3f} | Test Acc: {test_acc*100:.2f}% |')"
   ]
  },
  {
   "cell_type": "code",
   "execution_count": 37,
   "metadata": {},
   "outputs": [
    {
     "name": "stdout",
     "output_type": "stream",
     "text": [
      "tensor([[    0,     0,     0,  ..., 32942, 32954, 32960],\n",
      "        [32962, 32963, 32963,  ..., 39200, 39201, 39204],\n",
      "        [39210, 39222, 39245,  ..., 37000, 37000, 37000],\n",
      "        ...,\n",
      "        [19769, 23305, 26595,  ..., 41531, 41531, 41531],\n",
      "        [41531, 41531, 41531,  ..., 38305, 38026, 37773],\n",
      "        [37555, 37377, 37242,  ...,     0,     0,     0]])\n"
     ]
    }
   ],
   "source": [
    "with open('my_f0.pickle', 'rb') as f:\n",
    "    my_f0_pickle = pickle.load(f)\n",
    "\n",
    "my_data = []\n",
    "for i in range(100, len(my_f0_pickle), 100):\n",
    "    if i + 100 > len(my_f0_pickle):\n",
    "        break\n",
    "    my_data.append(my_f0_pickle[i:i+100])\n",
    "\n",
    "batch = np.array(my_data)\n",
    "batch = batch * 100\n",
    "batch = batch.astype(int)\n",
    "batch = torch.from_numpy(batch)\n",
    "print(batch)"
   ]
  },
  {
   "cell_type": "code",
   "execution_count": 38,
   "metadata": {},
   "outputs": [
    {
     "name": "stdout",
     "output_type": "stream",
     "text": [
      "tensor([1., 1., 1., 1., 1., 1., 1., 1., 1., 1., 1., 1., 1., 1., 1., 1., 1., 1.,\n",
      "        1.], grad_fn=<RoundBackward>)\n",
      "tensor(19., grad_fn=<SumBackward0>) torch.Size([19])\n"
     ]
    }
   ],
   "source": [
    "predictions = model(batch).squeeze(1)\n",
    "predictions = torch.round(torch.sigmoid(predictions))\n",
    "print(predictions)\n",
    "print(predictions.sum(), predictions.size())"
   ]
  },
  {
   "cell_type": "code",
   "execution_count": null,
   "metadata": {},
   "outputs": [],
   "source": []
  }
 ],
 "metadata": {
  "kernelspec": {
   "display_name": "Python 3",
   "language": "python",
   "name": "python3"
  },
  "language_info": {
   "codemirror_mode": {
    "name": "ipython",
    "version": 3
   },
   "file_extension": ".py",
   "mimetype": "text/x-python",
   "name": "python",
   "nbconvert_exporter": "python",
   "pygments_lexer": "ipython3",
   "version": "3.6.5"
  }
 },
 "nbformat": 4,
 "nbformat_minor": 2
}
