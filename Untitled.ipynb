{
 "cells": [
  {
   "cell_type": "markdown",
   "metadata": {},
   "source": [
    "# EDA"
   ]
  },
  {
   "cell_type": "code",
   "execution_count": null,
   "metadata": {
    "ExecuteTime": {
     "end_time": "2018-12-29T02:35:05.780502Z",
     "start_time": "2018-12-29T02:35:04.444217Z"
    }
   },
   "outputs": [],
   "source": [
    "%pylab inline\n",
    "rcParams[\"figure.figsize\"] = (16,5)\n",
    "from IPython.display import Audio\n",
    "import librosa.display"
   ]
  },
  {
   "cell_type": "code",
   "execution_count": null,
   "metadata": {
    "ExecuteTime": {
     "end_time": "2018-12-29T02:35:06.678352Z",
     "start_time": "2018-12-29T02:35:05.888209Z"
    }
   },
   "outputs": [],
   "source": [
    "from scipy.io import wavfile\n",
    "import numpy as np\n",
    "\n",
    "fs, x = wavfile.read(\"02.wav\")\n",
    "print(fs, x)\n",
    "x = np.array(x, dtype=\"float\")\n",
    "\n",
    "librosa.display.waveplot(x, sr=fs)\n",
    "Audio(x, rate=fs)"
   ]
  },
  {
   "cell_type": "code",
   "execution_count": null,
   "metadata": {
    "ExecuteTime": {
     "end_time": "2018-12-29T02:35:14.462058Z",
     "start_time": "2018-12-29T02:35:07.846059Z"
    }
   },
   "outputs": [],
   "source": [
    "import pyworld\n",
    "\n",
    "frame_period = 5 # ms\n",
    "hop_length = int(0.001 * fs * frame_period)\n",
    "\n",
    "x = x.astype(np.float64)\n",
    "f0, timeaxis = pyworld.harvest(x, fs, frame_period=frame_period)\n",
    "spectrogram = pyworld.cheaptrick(x, f0, timeaxis, fs)\n",
    "aperiodicity = pyworld.d4c(x, f0, timeaxis, fs)\n",
    "\n",
    "# # This trims spectrum that has very small power. Just to make visualization looks good.\n",
    "# from nnmnkwii.util import trim_zeros_frames\n",
    "# spectrogram = trim_zeros_frames(spectrogram)\n",
    "\n",
    "# Let's see spectrogram representaion\n",
    "librosa.display.specshow(np.log(spectrogram).T, sr=fs,\n",
    "                         hop_length=hop_length, x_axis=\"time\",\n",
    "                         y_axis=\"linear\", cmap=\"magma\")\n",
    "colorbar()"
   ]
  },
  {
   "cell_type": "markdown",
   "metadata": {},
   "source": [
    "# Smule"
   ]
  },
  {
   "cell_type": "code",
   "execution_count": null,
   "metadata": {
    "ExecuteTime": {
     "end_time": "2019-01-01T03:27:17.185035Z",
     "start_time": "2019-01-01T03:27:16.736649Z"
    }
   },
   "outputs": [],
   "source": [
    "import os\n",
    "import numpy as np\n",
    "import matplotlib.pyplot as plt\n",
    "from sklearn.cluster import KMeans\n",
    "files = os.listdir(\"pitch\")"
   ]
  },
  {
   "cell_type": "code",
   "execution_count": null,
   "metadata": {
    "ExecuteTime": {
     "end_time": "2019-01-01T03:27:25.604571Z",
     "start_time": "2019-01-01T03:27:25.602248Z"
    }
   },
   "outputs": [],
   "source": [
    "filename = \"153423852_35744797\""
   ]
  },
  {
   "cell_type": "code",
   "execution_count": null,
   "metadata": {
    "ExecuteTime": {
     "end_time": "2019-01-01T03:27:37.095672Z",
     "start_time": "2019-01-01T03:27:36.492465Z"
    }
   },
   "outputs": [],
   "source": [
    "with open(\"pitch/\"+filename+\".csv\", \"r\") as f:\n",
    "    lines = f.readlines()\n",
    "    frequency = [x[:-1] for x in lines[1:]]\n",
    "    print(files[0])\n",
    "    n = len(frequency)\n",
    "    print(\"length\", n)\n",
    "    #plt.plot(frequency[10000:11000])\n",
    "    #plt.show()\n",
    "frequency = [float(x) for x in frequency]\n",
    "music = np.array(frequency)\n",
    "\n",
    "\n",
    "with open(\"pitch/\"+filename+\"_fake.csv\", \"r\") as f:\n",
    "    lines = f.readlines()\n",
    "    frequency_fake = [x[:-1] for x in lines[1:]]\n",
    "    print(files[0])\n",
    "    n = len(frequency)\n",
    "    #plt.plot(frequency[10000:11000])\n",
    "    #plt.show()\n",
    "frequency_fake = [float(x) for x in frequency]\n",
    "music_fake = np.array(frequency_fake)\n",
    "\n",
    "plt.figure(1)\n",
    "plt.subplot(211)\n",
    "librosa.display.waveplot(music_fake, 1)\n",
    "plt.subplot(212)\n",
    "librosa.display.waveplot(music, 1)"
   ]
  },
  {
   "cell_type": "code",
   "execution_count": null,
   "metadata": {
    "ExecuteTime": {
     "end_time": "2019-01-01T03:36:54.941739Z",
     "start_time": "2019-01-01T03:36:54.882703Z"
    }
   },
   "outputs": [],
   "source": [
    "\n",
    "print(frequency)"
   ]
  },
  {
   "cell_type": "code",
   "execution_count": null,
   "metadata": {},
   "outputs": [],
   "source": []
  },
  {
   "cell_type": "code",
   "execution_count": null,
   "metadata": {
    "ExecuteTime": {
     "end_time": "2018-12-28T09:21:03.341094Z",
     "start_time": "2018-12-28T09:21:03.299537Z"
    }
   },
   "outputs": [],
   "source": [
    "unique, counts = np.unique(frequency, return_counts=True)\n",
    "dict(zip(unique, counts))"
   ]
  },
  {
   "cell_type": "code",
   "execution_count": null,
   "metadata": {},
   "outputs": [],
   "source": [
    "d2 = [(x, x) for x in frequency]\n",
    "kmeans = KMeans(n_clusters=20, random_state=0).fit(d2)\n",
    "kmeans.cluster_centers_"
   ]
  },
  {
   "cell_type": "code",
   "execution_count": null,
   "metadata": {},
   "outputs": [],
   "source": [
    "frequency = np.array(frequency)\n",
    "plt.plot(frequency[11000:12000])\n",
    "plt.show()"
   ]
  },
  {
   "cell_type": "code",
   "execution_count": null,
   "metadata": {},
   "outputs": [],
   "source": [
    "import matplotlib      # Remove this line if you don't need them\n",
    "matplotlib.use('Agg')  # Remove this line if you don't need them\n",
    "import matplotlib.pyplot as plt\n",
    "plt.figure(dpi=1000)\n",
    "#        plt.figure()\n",
    "for i, f in enumerate(frequency):\n",
    "    plt.subplot(n, 1, i+1)\n",
    "    plt.plot(f, linewidth=0.5)\n",
    "    plt.xlim([0, len(f)])\n",
    "    plt.ylim(bottom=200, top=max(f))\n",
    "plt.show()"
   ]
  },
  {
   "cell_type": "code",
   "execution_count": null,
   "metadata": {},
   "outputs": [],
   "source": [
    "\n",
    "from pandas import Series\n",
    "from matplotlib import pyplot\n",
    "series = Series(data=frequency, index=range(len(frequency)))\n",
    "series.plot()\n",
    "pyplot.show()"
   ]
  },
  {
   "cell_type": "code",
   "execution_count": null,
   "metadata": {},
   "outputs": [],
   "source": [
    "import matplotlib.pyplot as plt\n",
    "import datetime\n",
    "import numpy as np\n",
    "\n",
    "x = np.array([i for i in range(len(frequency))])\n",
    "\n",
    "plt.plot(x,frequency)\n",
    "plt.show()"
   ]
  },
  {
   "cell_type": "code",
   "execution_count": null,
   "metadata": {
    "ExecuteTime": {
     "end_time": "2019-01-01T04:41:30.716581Z",
     "start_time": "2019-01-01T04:41:30.707865Z"
    }
   },
   "outputs": [],
   "source": [
    "notes = [207.657, 220.005, 233.087, 246.947, 261.632, 277.189, 293.672, 311.135, 329.636, 349.237, 370.003, 392.005, 415.315, 440.010, 466.175, 493.895, 523.264, 554.379, 587.344, 622.269]"
   ]
  },
  {
   "cell_type": "code",
   "execution_count": null,
   "metadata": {
    "ExecuteTime": {
     "end_time": "2018-12-29T05:40:59.519366Z",
     "start_time": "2018-12-29T05:40:59.506429Z"
    }
   },
   "outputs": [],
   "source": [
    "len(a)"
   ]
  },
  {
   "cell_type": "markdown",
   "metadata": {},
   "source": [
    "# Prepare Data"
   ]
  },
  {
   "cell_type": "code",
   "execution_count": null,
   "metadata": {
    "ExecuteTime": {
     "start_time": "2019-01-01T04:42:15.148Z"
    }
   },
   "outputs": [],
   "source": [
    "import os\n",
    "import csv\n",
    "import pickle\n",
    "import librosa.display\n",
    "import time\n",
    "from multiprocessing import Pool\n",
    "\n",
    "\n",
    "def naive_tune(f0):\n",
    "    _f0 = f0.copy()\n",
    "    for i in range(len(_f0)):\n",
    "        if _f0[i] > 0:\n",
    "            nearest_note = 0\n",
    "            for note in notes:\n",
    "                if abs(_f0[i]-note) < abs(_f0[i]-nearest_note):\n",
    "                    nearest_note = note\n",
    "            _f0[i] = nearest_note\n",
    "    for i in range(len(_f0)):\n",
    "        if _f0[i] > 0 and _f0[i] == _f0[min(i+10, len(_f0))-1]:\n",
    "            for j in range(i, min(i+10, len(_f0))):\n",
    "                _f0[j] = _f0[i]\n",
    "    for rounds in range(20):\n",
    "        tmp_f0 = _f0.copy()\n",
    "        for i in range(1, len(_f0)-1):\n",
    "            _f0[i] = (tmp_f0[i-1]+tmp_f0[i]+tmp_f0[i+1])/3\n",
    "    for i in range(len(_f0)):\n",
    "        if _f0[i] > 0:\n",
    "            _f0[i] = (_f0[i]*4+f0[i]*6)/10\n",
    "    return _f0\n",
    "\n",
    "\n",
    "\n",
    "\n",
    "\n",
    "def run(filelist):\n",
    "    if(str(filelist[0])+\".pickle\" in os.listdir(\"./pitch_pickles\")):\n",
    "        print(str(filelist[0])+\".pickle\", \"exists\")\n",
    "        return\n",
    "    smule_pitch = []\n",
    "    cnt = 0\n",
    "    start_time = time.time()\n",
    "    for file in filelist[1]:\n",
    "        cnt += 1\n",
    "        if(cnt %10==0):\n",
    "            print(filelist[0], cnt, time.time()-start_time)\n",
    "        if(file[-4:] == \".csv\"):\n",
    "            with open(\"./pitch/\"+file, \"r\") as f:\n",
    "                f0 = []\n",
    "                spamreader = csv.reader(f, delimiter=' ', quotechar='|')\n",
    "                for row in spamreader:\n",
    "                    if row[0] != 'F0_sma':\n",
    "                        f0.append(float(row[0]))\n",
    "                while(len(f0)>2 and f0[0]==0):\n",
    "                    f0 = f0[1:]\n",
    "                while(len(f0)>2 and f0[-1]==0):\n",
    "                    f0 = f0[:-1]\n",
    "                # print(file, len(f0))\n",
    "                while(len(f0)>3000):\n",
    "                    _f0 = naive_tune(f0[:3000])\n",
    "                    _f0 = np.array(_f0)\n",
    "                    smule_pitch.append([np.array(f0[:3000]), _f0])\n",
    "                    #print(file, _f0.shape)\n",
    "                    f0 = f0[:3000]\n",
    "                \n",
    "\n",
    "\n",
    "    with open(\"./pitch_pickles/\"+str(filelist[0])+\".pickle\", \"wb\") as f:\n",
    "        pickle.dump(smule_pitch, f)\n",
    "        \n",
    "files = os.listdir(\"./pitch\")\n",
    "iterfile = []\n",
    "for i in range(343):\n",
    "    iterfile.append([i, files[i*100:(i+1)*100]])\n",
    "    \n",
    "iterfile.append([343, files[34300:]])\n",
    "\n",
    "if __name__ == '__main__':\n",
    "    pool = Pool(20)                         # Create a multiprocessing Pool\n",
    "    pool.map(run, iterfile)\n",
    "\n",
    "\n",
    "#             plt.figure(1)\n",
    "#             plt.subplot(211)\n",
    "#             plt.title(\"raw input\")\n",
    "#             plt.xlabel(\"\")\n",
    "#             plt.axis(\"off\")\n",
    "#             librosa.display.waveplot(f0, 1)\n",
    "#             plt.subplot(212)\n",
    "#             plt.axis(\"off\")\n",
    "#             plt.title(\"naive tuned output\")\n",
    "#             librosa.display.waveplot(_f0, 1)\n",
    "#             plt.savefig(\"naive_tune.png\")"
   ]
  },
  {
   "cell_type": "code",
   "execution_count": 1,
   "metadata": {
    "ExecuteTime": {
     "end_time": "2019-01-01T05:07:10.013412Z",
     "start_time": "2019-01-01T05:06:52.045256Z"
    }
   },
   "outputs": [
    {
     "name": "stdout",
     "output_type": "stream",
     "text": [
      "34008\n"
     ]
    }
   ],
   "source": [
    "import os, pickle\n",
    "res = []\n",
    "for i in os.listdir(\"./MusicTune/pitch_data\"):\n",
    "    if(i[-6:]==\"pickle\"):\n",
    "        with open(\"./MusicTune/pitch_data/\"+i, \"rb\") as f:\n",
    "            data = pickle.load(f)\n",
    "            res = res + data\n",
    "\n",
    "print(len(res))\n",
    "with open(\"./MusicTune/data.pickle\", 'wb') as f:\n",
    "    pickle.dump(file=f, obj=res)"
   ]
  },
  {
   "cell_type": "markdown",
   "metadata": {},
   "source": [
    "# Pytorch"
   ]
  },
  {
   "cell_type": "code",
   "execution_count": null,
   "metadata": {
    "ExecuteTime": {
     "end_time": "2018-12-30T08:36:23.146760Z",
     "start_time": "2018-12-30T08:36:23.137597Z"
    }
   },
   "outputs": [],
   "source": [
    "from torch import nn\n",
    "import torch\n",
    "\n",
    "m = nn.LogSoftmax()\n",
    "loss = nn.NLLLoss()\n",
    "# input is of size N x C = 3 x 5\n",
    "input = torch.randn(3, 5, requires_grad=True)\n",
    "# each element in target has to have 0 <= value < C\n",
    "target = torch.tensor([1, 0, 4])\n",
    "out = m(input)\n",
    "print(m)\n",
    "output = loss(m(input), target)\n",
    "#output.backward()"
   ]
  },
  {
   "cell_type": "code",
   "execution_count": null,
   "metadata": {
    "ExecuteTime": {
     "end_time": "2018-12-31T09:20:16.689486Z",
     "start_time": "2018-12-31T09:20:16.678843Z"
    }
   },
   "outputs": [],
   "source": [
    "# Vocal"
   ]
  },
  {
   "cell_type": "code",
   "execution_count": null,
   "metadata": {},
   "outputs": [],
   "source": []
  }
 ],
 "metadata": {
  "kernelspec": {
   "display_name": "Python 3",
   "language": "python",
   "name": "python3"
  },
  "language_info": {
   "codemirror_mode": {
    "name": "ipython",
    "version": 3
   },
   "file_extension": ".py",
   "mimetype": "text/x-python",
   "name": "python",
   "nbconvert_exporter": "python",
   "pygments_lexer": "ipython3",
   "version": "3.7.1"
  },
  "toc": {
   "base_numbering": 1,
   "nav_menu": {},
   "number_sections": true,
   "sideBar": true,
   "skip_h1_title": false,
   "title_cell": "Table of Contents",
   "title_sidebar": "Contents",
   "toc_cell": false,
   "toc_position": {},
   "toc_section_display": true,
   "toc_window_display": true
  },
  "varInspector": {
   "cols": {
    "lenName": 16,
    "lenType": 16,
    "lenVar": 40
   },
   "kernels_config": {
    "python": {
     "delete_cmd_postfix": "",
     "delete_cmd_prefix": "del ",
     "library": "var_list.py",
     "varRefreshCmd": "print(var_dic_list())"
    },
    "r": {
     "delete_cmd_postfix": ") ",
     "delete_cmd_prefix": "rm(",
     "library": "var_list.r",
     "varRefreshCmd": "cat(var_dic_list()) "
    }
   },
   "position": {
    "height": "307px",
    "left": "1070px",
    "right": "20px",
    "top": "120px",
    "width": "350px"
   },
   "types_to_exclude": [
    "module",
    "function",
    "builtin_function_or_method",
    "instance",
    "_Feature"
   ],
   "window_display": false
  }
 },
 "nbformat": 4,
 "nbformat_minor": 2
}
